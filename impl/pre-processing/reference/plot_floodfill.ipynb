{
 "cells": [
  {
   "cell_type": "code",
   "execution_count": null,
   "metadata": {
    "collapsed": false,
    "jupyter": {
     "outputs_hidden": false
    }
   },
   "outputs": [],
   "source": [
    "%matplotlib inline"
   ]
  },
  {
   "cell_type": "markdown",
   "metadata": {},
   "source": [
    "\n",
    "# Flood Fill\n",
    "\n",
    "Flood fill is an algorithm to identify and/or change adjacent values in an\n",
    "image based on their similarity to an initial seed point [1]_. The conceptual\n",
    "analogy is the 'paint bucket' tool in many graphic editors.\n",
    "\n",
    ".. [1] https://en.wikipedia.org/wiki/Flood_fill\n",
    "\n",
    "## Basic example\n",
    "\n",
    "First, a basic example where we will change a checkerboard square from white\n",
    "to mid-gray.\n"
   ]
  },
  {
   "cell_type": "code",
   "execution_count": 3,
   "metadata": {},
   "outputs": [
    {
     "data": {
      "text/plain": [
       "(200, 200)"
      ]
     },
     "execution_count": 3,
     "metadata": {},
     "output_type": "execute_result"
    }
   ],
   "source": [
    "checkers.shape"
   ]
  },
  {
   "cell_type": "code",
   "execution_count": 1,
   "metadata": {
    "collapsed": false,
    "jupyter": {
     "outputs_hidden": false
    }
   },
   "outputs": [
    {
     "data": {
      "image/png": "[encoded data removed]",
      "text/plain": [
       "<Figure size 720x360 with 2 Axes>"
      ]
     },
     "metadata": {
      "needs_background": "light"
     },
     "output_type": "display_data"
    }
   ],
   "source": [
    "import numpy as np\n",
    "import matplotlib.pyplot as plt\n",
    "from skimage import data, filters, color, morphology\n",
    "from skimage.segmentation import flood, flood_fill\n",
    "\n",
    "\n",
    "checkers = data.checkerboard()\n",
    "\n",
    "# Fill a square near the middle with value 127, starting at index (76, 76)\n",
    "filled_checkers = flood_fill(checkers, (76, 76), 127)\n",
    "\n",
    "fig, ax = plt.subplots(ncols=2, figsize=(10, 5))\n",
    "\n",
    "ax[0].imshow(checkers, cmap=plt.cm.gray)\n",
    "ax[0].set_title('Original')\n",
    "\n",
    "ax[1].imshow(filled_checkers, cmap=plt.cm.gray)\n",
    "ax[1].plot(76, 76, 'wo')  # seed point\n",
    "ax[1].set_title('After flood fill')\n",
    "\n",
    "plt.show()"
   ]
  },
  {
   "cell_type": "markdown",
   "metadata": {},
   "source": [
    "## Advanced example\n",
    "\n",
    "Because standard flood filling requires the neighbors to be strictly equal,\n",
    "its use is limited on real-world images with color gradients and noise.\n",
    "The `tolerance` keyword argument widens the permitted range about the initial\n",
    "value, allowing use on real-world images.\n",
    "\n",
    "Here we will experiment a bit on the cameraman.  First, turning his coat from\n",
    "dark to light.\n",
    "\n"
   ]
  },
  {
   "cell_type": "code",
   "execution_count": null,
   "metadata": {
    "collapsed": false,
    "jupyter": {
     "outputs_hidden": false
    }
   },
   "outputs": [],
   "source": [
    "cameraman = data.camera()\n",
    "\n",
    "# Change the cameraman's coat from dark to light (255).  The seed point is\n",
    "# chosen as (155, 150)\n",
    "light_coat = flood_fill(cameraman, (155, 150), 255, tolerance=10)\n",
    "fig, ax = plt.subplots(ncols=2, figsize=(10, 5))\n",
    "\n",
    "ax[0].imshow(cameraman, cmap=plt.cm.gray)\n",
    "ax[0].set_title('Original')\n",
    "ax[0].axis('off')\n",
    "\n",
    "ax[1].imshow(light_coat, cmap=plt.cm.gray)\n",
    "ax[1].plot(150, 155, 'ro')  # seed point\n",
    "ax[1].set_title('After flood fill')\n",
    "ax[1].axis('off')\n",
    "\n",
    "plt.show()"
   ]
  },
  {
   "cell_type": "markdown",
   "metadata": {},
   "source": [
    "The cameraman's  coat is in varying shades of gray. Only the parts of the coat\n",
    "matching the shade near the seed value is changed.\n",
    "\n",
    "## Experimentation with tolerance\n",
    "\n",
    "To get a better intuitive understanding of how the tolerance parameter\n",
    "works, here is a set of images progressively increasing the parameter with\n",
    "seed point in the upper left corner.\n",
    "\n"
   ]
  },
  {
   "cell_type": "code",
   "execution_count": null,
   "metadata": {
    "collapsed": false,
    "jupyter": {
     "outputs_hidden": false
    }
   },
   "outputs": [],
   "source": [
    "output = []\n",
    "\n",
    "for i in range(8):\n",
    "    tol = 5 + 20 * i\n",
    "    output.append(flood_fill(cameraman, (0, 0), 255, tolerance=tol))\n",
    "\n",
    "# Initialize plot and place original image\n",
    "fig, ax = plt.subplots(nrows=3, ncols=3, figsize=(12, 12))\n",
    "ax[0, 0].imshow(cameraman, cmap=plt.cm.gray)\n",
    "ax[0, 0].set_title('Original')\n",
    "ax[0, 0].axis('off')\n",
    "\n",
    "# Plot all eight different tolerances for comparison.\n",
    "for i in range(8):\n",
    "    m, n = np.unravel_index(i + 1, (3, 3))\n",
    "    ax[m, n].imshow(output[i], cmap=plt.cm.gray)\n",
    "    ax[m, n].set_title(f'Tolerance {5 + 20 * i}')\n",
    "    ax[m, n].axis('off')\n",
    "    ax[m, n].plot(0, 0, 'bo')  # seed point\n",
    "\n",
    "fig.tight_layout()\n",
    "plt.show()"
   ]
  },
  {
   "cell_type": "markdown",
   "metadata": {},
   "source": [
    "## Flood as mask\n",
    "\n",
    "A sister function, `flood`, is available which returns a mask identifying\n",
    "the flood rather than modifying the image itself.  This is useful for\n",
    "segmentation purposes and more advanced analysis pipelines.\n",
    "\n",
    "Here we segment the nose of a cat.  However, multi-channel images are not\n",
    "supported by flood[_fill].  Instead we Sobel filter the red channel to\n",
    "enhance edges, then flood the nose with a tolerance.\n",
    "\n"
   ]
  },
  {
   "cell_type": "code",
   "execution_count": null,
   "metadata": {
    "collapsed": false,
    "jupyter": {
     "outputs_hidden": false
    }
   },
   "outputs": [],
   "source": [
    "cat = data.chelsea()\n",
    "cat_sobel = filters.sobel(cat[..., 0])\n",
    "cat_nose = flood(cat_sobel, (240, 265), tolerance=0.03)\n",
    "\n",
    "fig, ax = plt.subplots(nrows=3, figsize=(10, 20))\n",
    "\n",
    "ax[0].imshow(cat)\n",
    "ax[0].set_title('Original')\n",
    "ax[0].axis('off')\n",
    "\n",
    "ax[1].imshow(cat_sobel)\n",
    "ax[1].set_title('Sobel filtered')\n",
    "ax[1].axis('off')\n",
    "\n",
    "ax[2].imshow(cat)\n",
    "ax[2].imshow(cat_nose, cmap=plt.cm.gray, alpha=0.3)\n",
    "ax[2].plot(265, 240, 'wo')  # seed point\n",
    "ax[2].set_title('Nose segmented with `flood`')\n",
    "ax[2].axis('off')\n",
    "\n",
    "fig.tight_layout()\n",
    "plt.show()"
   ]
  },
  {
   "cell_type": "markdown",
   "metadata": {},
   "source": [
    "## Flood-fill in HSV space and mask post-processing\n",
    "\n",
    "Since flood fill operates on single-channel images, we transform here the\n",
    "image to the HSV (Hue Saturation Value) space in order to flood pixels of\n",
    "similar hue.\n",
    "\n",
    "In this example we also show that it is possible to post-process the binary\n",
    "mask returned by :func:`skimage.segmentation.flood` thanks to the functions\n",
    "of :mod:`skimage.morphology`.\n",
    "\n"
   ]
  },
  {
   "cell_type": "code",
   "execution_count": null,
   "metadata": {
    "collapsed": false,
    "jupyter": {
     "outputs_hidden": false
    }
   },
   "outputs": [],
   "source": [
    "img = data.astronaut()\n",
    "img_hsv = color.rgb2hsv(img)\n",
    "img_hsv_copy = np.copy(img_hsv)\n",
    "\n",
    "# flood function returns a mask of flooded pixels\n",
    "mask = flood(img_hsv[..., 0], (313, 160), tolerance=0.016)\n",
    "# Set pixels of mask to new value for hue channel\n",
    "img_hsv[mask, 0] = 0.5\n",
    "# Post-processing in order to improve the result\n",
    "# Remove white pixels from flag, using saturation channel\n",
    "mask_postprocessed = np.logical_and(mask,\n",
    "                                    img_hsv_copy[..., 1] > 0.4)\n",
    "# Remove thin structures with binary opening\n",
    "mask_postprocessed = morphology.binary_opening(mask_postprocessed,\n",
    "                                               np.ones((3, 3)))\n",
    "# Fill small holes with binary closing\n",
    "mask_postprocessed = morphology.binary_closing(\n",
    "                mask_postprocessed, morphology.disk(20))\n",
    "img_hsv_copy[mask_postprocessed, 0] = 0.5\n",
    "\n",
    "fig, ax = plt.subplots(1, 2, figsize=(8, 4))\n",
    "ax[0].imshow(color.hsv2rgb(img_hsv))\n",
    "ax[0].axis('off')\n",
    "ax[0].set_title('After flood fill')\n",
    "ax[1].imshow(color.hsv2rgb(img_hsv_copy))\n",
    "ax[1].axis('off')\n",
    "ax[1].set_title('After flood fill and post-processing')\n",
    "\n",
    "fig.tight_layout()\n",
    "plt.show()"
   ]
  }
 ],
 "metadata": {
  "kernelspec": {
   "display_name": "Python 3",
   "language": "python",
   "name": "python3"
  },
  "language_info": {
   "codemirror_mode": {
    "name": "ipython",
    "version": 3
   },
   "file_extension": ".py",
   "mimetype": "text/x-python",
   "name": "python",
   "nbconvert_exporter": "python",
   "pygments_lexer": "ipython3",
   "version": "3.7.6"
  }
 },
 "nbformat": 4,
 "nbformat_minor": 4
}
